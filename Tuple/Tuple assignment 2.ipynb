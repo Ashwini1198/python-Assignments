{
 "cells": [
  {
   "cell_type": "markdown",
   "id": "8867e9a3",
   "metadata": {},
   "source": [
    "# Tupple"
   ]
  },
  {
   "cell_type": "markdown",
   "id": "2e848623",
   "metadata": {},
   "source": [
    "**Write a program to find the repeated items of a tuple.**"
   ]
  },
  {
   "cell_type": "code",
   "execution_count": 1,
   "id": "22736b6e",
   "metadata": {},
   "outputs": [
    {
     "name": "stdout",
     "output_type": "stream",
     "text": [
      "(2, 4, 5, 4, 6, 3, 4, 4, 7)\n",
      "Repeated items in tuple: 4\n"
     ]
    }
   ],
   "source": [
    "tuple = 2, 4, 5, 4, 6, 3, 4, 4, 7 \n",
    "print(tuple)\n",
    "count = tuple.count(4)\n",
    "print(\"Repeated items in tuple:\",count)"
   ]
  },
  {
   "cell_type": "markdown",
   "id": "1bbfa3f3",
   "metadata": {},
   "source": [
    "**Write a program  to check whether an element exists within a tuple.**"
   ]
  },
  {
   "cell_type": "code",
   "execution_count": 2,
   "id": "c4016822",
   "metadata": {},
   "outputs": [
    {
     "name": "stdout",
     "output_type": "stream",
     "text": [
      "12 exists in tuple\n"
     ]
    }
   ],
   "source": [
    "t = (9,12,4,8,3)\n",
    "element= 12\n",
    "if element in t:\n",
    "    print(element,\"exists in tuple\")\n",
    "else:\n",
    "    print(element,\"does not exist in tuple\")"
   ]
  },
  {
   "cell_type": "markdown",
   "id": "095ee1cb",
   "metadata": {},
   "source": [
    "**Write a program to convert a list to a tuple.**"
   ]
  },
  {
   "cell_type": "code",
   "execution_count": 1,
   "id": "dc8a6d5d",
   "metadata": {},
   "outputs": [
    {
     "name": "stdout",
     "output_type": "stream",
     "text": [
      "(2, 4, 5, 6, 7)\n"
     ]
    }
   ],
   "source": [
    "a=[2,4,5,6,7]\n",
    "b=tuple(a)\n",
    "print(b)"
   ]
  },
  {
   "cell_type": "markdown",
   "id": "e57d0fe6",
   "metadata": {},
   "source": [
    "**Write a program to remove an items from a tuple.**"
   ]
  },
  {
   "cell_type": "code",
   "execution_count": 3,
   "id": "d299757b",
   "metadata": {},
   "outputs": [
    {
     "name": "stdout",
     "output_type": "stream",
     "text": [
      "(2, 9, 45, 'w', 'q', 'A')\n"
     ]
    }
   ],
   "source": [
    "num = (2,12,9,45,'w','q','A')\n",
    "list1=list(num)\n",
    "list1.remove(12)\n",
    "t1=tuple(list1)\n",
    "print(t1)\n"
   ]
  },
  {
   "cell_type": "markdown",
   "id": "24ec8a9e",
   "metadata": {},
   "source": [
    "**Write a program to slice a tuple.**"
   ]
  },
  {
   "cell_type": "code",
   "execution_count": 4,
   "id": "9a161238",
   "metadata": {},
   "outputs": [
    {
     "name": "stdout",
     "output_type": "stream",
     "text": [
      "('a', 'b', 'c', 'd', 'e')\n",
      "('b', 'd', 'f')\n",
      "('j', 'h')\n"
     ]
    }
   ],
   "source": [
    "tuple= ('a','b','c','d','e','f','g','h','i','j')\n",
    "print(tuple[0:5])\n",
    "print(tuple[1:7:2])\n",
    "print(tuple[-1:-5:-2])"
   ]
  },
  {
   "cell_type": "markdown",
   "id": "6b2299cd",
   "metadata": {},
   "source": [
    "**Write a program to find the index of an item of a tuple.**"
   ]
  },
  {
   "cell_type": "code",
   "execution_count": 5,
   "id": "2a5cbea9",
   "metadata": {},
   "outputs": [
    {
     "name": "stdout",
     "output_type": "stream",
     "text": [
      "welcome\n",
      "index of l: 2\n",
      "index of w: 0\n"
     ]
    }
   ],
   "source": [
    "T1 = (\"welcome\")\n",
    "print(T1)\n",
    "index = T1.index('l')\n",
    "print(\"index of l:\",index)\n",
    "index = T1.index('w')\n",
    "print(\"index of w:\",index)\n"
   ]
  },
  {
   "cell_type": "markdown",
   "id": "c7fbfd56",
   "metadata": {},
   "source": [
    "**Write a program to find the length of a tuple.**"
   ]
  },
  {
   "cell_type": "code",
   "execution_count": 6,
   "id": "20460dc6",
   "metadata": {},
   "outputs": [
    {
     "name": "stdout",
     "output_type": "stream",
     "text": [
      "length of tuple: 9\n"
     ]
    }
   ],
   "source": [
    "a = (2,5,7,8,9,4,3,'s','p')\n",
    "print(\"length of tuple:\",len(a))\n"
   ]
  },
  {
   "cell_type": "markdown",
   "id": "033be5d1",
   "metadata": {},
   "source": [
    "**Write a program to convert a tuple to a dictionary.**"
   ]
  },
  {
   "cell_type": "code",
   "execution_count": 7,
   "id": "5387d287",
   "metadata": {},
   "outputs": [
    {
     "name": "stdout",
     "output_type": "stream",
     "text": [
      "((11, 'ash'), (21, 'ruhi'), (19, 'divya'), (46, 'pooja'))\n",
      "{11: 'ash', 21: 'ruhi', 19: 'divya', 46: 'pooja'}\n"
     ]
    }
   ],
   "source": [
    "t1 = ((11,\"ash\"), (21,\"ruhi\"), (19,\"divya\"), (46,\"pooja\"))\n",
    "print(t1)\n",
    "dct=dict(t1)\n",
    "print(dct)"
   ]
  },
  {
   "cell_type": "code",
   "execution_count": null,
   "id": "f6f033ac",
   "metadata": {},
   "outputs": [],
   "source": []
  }
 ],
 "metadata": {
  "kernelspec": {
   "display_name": "Python 3 (ipykernel)",
   "language": "python",
   "name": "python3"
  },
  "language_info": {
   "codemirror_mode": {
    "name": "ipython",
    "version": 3
   },
   "file_extension": ".py",
   "mimetype": "text/x-python",
   "name": "python",
   "nbconvert_exporter": "python",
   "pygments_lexer": "ipython3",
   "version": "3.9.12"
  }
 },
 "nbformat": 4,
 "nbformat_minor": 5
}
