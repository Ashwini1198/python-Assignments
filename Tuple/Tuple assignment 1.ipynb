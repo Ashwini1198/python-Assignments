{
 "cells": [
  {
   "cell_type": "markdown",
   "id": "45eb1215",
   "metadata": {},
   "source": [
    "# Tuple"
   ]
  },
  {
   "cell_type": "markdown",
   "id": "c8863e82",
   "metadata": {},
   "source": [
    "**Write a program to create a tuple.**"
   ]
  },
  {
   "cell_type": "code",
   "execution_count": 10,
   "id": "bc941600",
   "metadata": {},
   "outputs": [
    {
     "name": "stdout",
     "output_type": "stream",
     "text": [
      "()\n",
      "('water', 'soil')\n"
     ]
    },
    {
     "data": {
      "text/plain": [
       "(34, 45, 3, 6, 7, 8, 1)"
      ]
     },
     "execution_count": 10,
     "metadata": {},
     "output_type": "execute_result"
    }
   ],
   "source": [
    "t1=()\n",
    "print(t1)\n",
    "\n",
    "tup1='water','soil'\n",
    "print(tup1)\n",
    "\n",
    "tuple=34,45,3,6,7,8,1\n",
    "tuple\n",
    "\n",
    "\n"
   ]
  },
  {
   "cell_type": "markdown",
   "id": "96c8067d",
   "metadata": {},
   "source": [
    "**Write a program to create a tuple with different data types.**"
   ]
  },
  {
   "cell_type": "code",
   "execution_count": 10,
   "id": "27f4c3b0",
   "metadata": {},
   "outputs": [
    {
     "name": "stdout",
     "output_type": "stream",
     "text": [
      "('ash', 45, 23, 5, 'jem', 7.9, (1+3j))\n"
     ]
    }
   ],
   "source": [
    "t1='ash',45,23,5,'jem',7.9,3j+1\n",
    "print(t1)"
   ]
  },
  {
   "cell_type": "markdown",
   "id": "0f634a02",
   "metadata": {},
   "source": [
    "**Write a program to create a tuple with numbers and print one item.**"
   ]
  },
  {
   "cell_type": "code",
   "execution_count": 14,
   "id": "68b99af0",
   "metadata": {},
   "outputs": [
    {
     "name": "stdout",
     "output_type": "stream",
     "text": [
      "(5, 10, 15, 20, 25)\n",
      "(5,)\n"
     ]
    }
   ],
   "source": [
    "t1 = 5, 10, 15, 20, 25  #Create a tuple with numbers \n",
    "print(t1)\n",
    "t2 = 5,        #Create a tuple of one item\n",
    "print(t2)"
   ]
  },
  {
   "cell_type": "markdown",
   "id": "f9bfa3e6",
   "metadata": {},
   "source": [
    "**Write a program to add an item in a tuple.**"
   ]
  },
  {
   "cell_type": "code",
   "execution_count": 16,
   "id": "d7b22154",
   "metadata": {},
   "outputs": [
    {
     "name": "stdout",
     "output_type": "stream",
     "text": [
      "('apple', 'banana', 'grapes', 'orange', 'pineapple', 'mango')\n"
     ]
    }
   ],
   "source": [
    "mytuple=('apple','banana','grapes','orange')\n",
    "x=('pineapple','mango',)\n",
    "mytuple=mytuple + x\n",
    "print(mytuple)"
   ]
  },
  {
   "cell_type": "markdown",
   "id": "795c1a97",
   "metadata": {},
   "source": [
    "**Write a program to convert a tuple to a string.**"
   ]
  },
  {
   "cell_type": "code",
   "execution_count": 21,
   "id": "7f2169f1",
   "metadata": {},
   "outputs": [
    {
     "name": "stdout",
     "output_type": "stream",
     "text": [
      "Hello\n"
     ]
    }
   ],
   "source": [
    "tuple=('H','e','l','l','o')\n",
    "string=''.join(tuple)\n",
    "print(string)"
   ]
  },
  {
   "cell_type": "markdown",
   "id": "6989c0c2",
   "metadata": {},
   "source": [
    "**Write a program to get the 4 th element and 4th element from last of a tuple.**"
   ]
  },
  {
   "cell_type": "code",
   "execution_count": 22,
   "id": "6dad5182",
   "metadata": {},
   "outputs": [
    {
     "name": "stdout",
     "output_type": "stream",
     "text": [
      "('a', 'b', 'c', 'd', 23, 34, 'e', 'f')\n",
      "4th element of tuple: d\n",
      "4th element from last of a tuple: 23\n"
     ]
    }
   ],
   "source": [
    "tuple=(\"a\",\"b\",\"c\",\"d\",23,34,\"e\",\"f\")\n",
    "print(tuple)\n",
    "x=tuple[3]\n",
    "print(\"4th element of tuple:\",x)\n",
    "y=tuple[-4]\n",
    "print(\"4th element from last of a tuple:\",y)"
   ]
  },
  {
   "cell_type": "code",
   "execution_count": null,
   "id": "4ba61384",
   "metadata": {},
   "outputs": [],
   "source": []
  }
 ],
 "metadata": {
  "kernelspec": {
   "display_name": "Python 3 (ipykernel)",
   "language": "python",
   "name": "python3"
  },
  "language_info": {
   "codemirror_mode": {
    "name": "ipython",
    "version": 3
   },
   "file_extension": ".py",
   "mimetype": "text/x-python",
   "name": "python",
   "nbconvert_exporter": "python",
   "pygments_lexer": "ipython3",
   "version": "3.9.12"
  }
 },
 "nbformat": 4,
 "nbformat_minor": 5
}
