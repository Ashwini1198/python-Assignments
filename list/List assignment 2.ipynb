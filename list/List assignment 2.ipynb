{
 "cells": [
  {
   "cell_type": "markdown",
   "id": "68730d7b",
   "metadata": {},
   "source": [
    "# List"
   ]
  },
  {
   "cell_type": "markdown",
   "id": "0bc7a548",
   "metadata": {},
   "source": [
    "**Write a program to copy a list**"
   ]
  },
  {
   "cell_type": "code",
   "execution_count": 2,
   "id": "ed0fd912",
   "metadata": {},
   "outputs": [
    {
     "name": "stdout",
     "output_type": "stream",
     "text": [
      "copy list : ['blue', 'red', 'yellow', 'black']\n"
     ]
    }
   ],
   "source": [
    "list=[\"blue\",\"red\",\"yellow\",\"black\"]\n",
    "A=list.copy()\n",
    "print(\"copy list :\",A)"
   ]
  },
  {
   "cell_type": "markdown",
   "id": "605671a7",
   "metadata": {},
   "source": [
    "**Write a program to check whether two lists are circularly identical.**"
   ]
  },
  {
   "cell_type": "code",
   "execution_count": 3,
   "id": "c6243b0e",
   "metadata": {},
   "outputs": [
    {
     "name": "stdout",
     "output_type": "stream",
     "text": [
      "lists are circularly identical\n"
     ]
    }
   ],
   "source": [
    "l1=[10,10,11,11,10]\n",
    "l2=[11,10,10,10,11]\n",
    "if(' '.join(map(str, l1)) in ' '.join(map(str, l2 * 2))):\n",
    "    print(\"lists are circularly identical\")\n",
    "else:\n",
    "    print(\"lists are not circularly identical\")"
   ]
  },
  {
   "cell_type": "markdown",
   "id": "89d95c41",
   "metadata": {},
   "source": [
    "**Write a program to find the second smallest number in a list.**"
   ]
  },
  {
   "cell_type": "code",
   "execution_count": 4,
   "id": "077835e4",
   "metadata": {},
   "outputs": [
    {
     "name": "stdout",
     "output_type": "stream",
     "text": [
      " second smallest number : 3\n"
     ]
    }
   ],
   "source": [
    "l1=[2,4,3,6,10,11,23,9]\n",
    "l1.remove(min(l1))\n",
    "print(\" second smallest number :\",min(l1))"
   ]
  },
  {
   "cell_type": "markdown",
   "id": "1d5bd20b",
   "metadata": {},
   "source": [
    "**Write a program to find the second largest number in a list.**"
   ]
  },
  {
   "cell_type": "code",
   "execution_count": 5,
   "id": "2c96b604",
   "metadata": {},
   "outputs": [
    {
     "name": "stdout",
     "output_type": "stream",
     "text": [
      " second largest number : 11\n"
     ]
    }
   ],
   "source": [
    "l1=[2,4,3,6,10,11,23,9]\n",
    "l1.remove(max(l1))\n",
    "print(\" second largest number :\",max(l1))"
   ]
  },
  {
   "cell_type": "markdown",
   "id": "3ad66456",
   "metadata": {},
   "source": [
    "**Write a program to get the unique value from a list.**"
   ]
  },
  {
   "cell_type": "code",
   "execution_count": 7,
   "id": "b9ef6ed4",
   "metadata": {},
   "outputs": [
    {
     "name": "stdout",
     "output_type": "stream",
     "text": [
      "[32, 45, 90, 4]\n"
     ]
    }
   ],
   "source": [
    "l1=[32,45,90,32,45,4]\n",
    "unique=[]\n",
    "for a in l1:\n",
    "    if a not in unique:\n",
    "        unique.append(a)\n",
    "print(unique)"
   ]
  },
  {
   "cell_type": "code",
   "execution_count": null,
   "id": "7e509dbc",
   "metadata": {},
   "outputs": [],
   "source": []
  }
 ],
 "metadata": {
  "kernelspec": {
   "display_name": "Python 3 (ipykernel)",
   "language": "python",
   "name": "python3"
  },
  "language_info": {
   "codemirror_mode": {
    "name": "ipython",
    "version": 3
   },
   "file_extension": ".py",
   "mimetype": "text/x-python",
   "name": "python",
   "nbconvert_exporter": "python",
   "pygments_lexer": "ipython3",
   "version": "3.9.12"
  }
 },
 "nbformat": 4,
 "nbformat_minor": 5
}
