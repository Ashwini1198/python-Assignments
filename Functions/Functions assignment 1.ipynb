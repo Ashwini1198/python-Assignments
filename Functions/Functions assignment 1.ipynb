{
 "cells": [
  {
   "cell_type": "markdown",
   "id": "e2adcefb",
   "metadata": {},
   "source": [
    "# Functions"
   ]
  },
  {
   "cell_type": "markdown",
   "id": "193e1ca1",
   "metadata": {},
   "source": [
    "**Write a function to find the max of three numbers.**"
   ]
  },
  {
   "cell_type": "code",
   "execution_count": 1,
   "id": "c9f28c35",
   "metadata": {},
   "outputs": [
    {
     "name": "stdout",
     "output_type": "stream",
     "text": [
      "Enter first number:4\n",
      "Enter second number:5\n",
      "Enter Third number:10\n",
      "Largest number is 10\n"
     ]
    }
   ],
   "source": [
    "\n",
    "\n",
    "def max():\n",
    "    n1=int(input(\"Enter first number:\"))\n",
    "    n2=int(input(\"Enter second number:\"))\n",
    "    n3=int(input(\"Enter Third number:\"))\n",
    "\n",
    "\n",
    "    if(n1>=n2) and (n1>=n3):\n",
    "        large=n1\n",
    "\n",
    "    elif(n2>=n1) and (n2>=n3):\n",
    "        large=n2\n",
    "\n",
    "    else:\n",
    "        large=n3\n",
    "\n",
    "    print(\"Largest number is\",large)\n",
    "\n",
    "max()"
   ]
  },
  {
   "cell_type": "markdown",
   "id": "56b9fea1",
   "metadata": {},
   "source": [
    "**Write a function to sum all the numbers in a list.**"
   ]
  },
  {
   "cell_type": "code",
   "execution_count": 2,
   "id": "3e0cf987",
   "metadata": {},
   "outputs": [
    {
     "name": "stdout",
     "output_type": "stream",
     "text": [
      "sum of all numbers: 10\n"
     ]
    }
   ],
   "source": [
    "def sum(num):\n",
    "    total= 0\n",
    "    for i in num:\n",
    "        total+= i\n",
    "    return total\n",
    "\n",
    "sum1=[1,2,3,4]\n",
    "\n",
    "print(\"sum of all numbers:\",sum(sum1))\n"
   ]
  },
  {
   "cell_type": "markdown",
   "id": "9383b1fe",
   "metadata": {},
   "source": [
    " **Write a function to multiply all the numbers in a list.**"
   ]
  },
  {
   "cell_type": "code",
   "execution_count": 3,
   "id": "59eb2f78",
   "metadata": {},
   "outputs": [
    {
     "name": "stdout",
     "output_type": "stream",
     "text": [
      "multiply all the numbers: 30\n"
     ]
    }
   ],
   "source": [
    "def mul(num):\n",
    "    total= 1\n",
    "    for i in num:\n",
    "        total = total*i\n",
    "    return total\n",
    "\n",
    "list1=[1,2,3,5]\n",
    "\n",
    "print(\"multiply all the numbers:\",mul(list1))\n"
   ]
  },
  {
   "cell_type": "markdown",
   "id": "e720c67d",
   "metadata": {},
   "source": [
    "**Write a function to reverse a string.**"
   ]
  },
  {
   "cell_type": "code",
   "execution_count": 4,
   "id": "f110fc32",
   "metadata": {},
   "outputs": [
    {
     "name": "stdout",
     "output_type": "stream",
     "text": [
      "Reverse a string: iniwhsA ma I\n"
     ]
    }
   ],
   "source": [
    "def my_func(x):\n",
    "    return x[::-1]\n",
    "\n",
    "text = my_func(\"I am Ashwini\")\n",
    "\n",
    "print(\"Reverse a string:\",text)"
   ]
  },
  {
   "cell_type": "markdown",
   "id": "ff5d83c9",
   "metadata": {},
   "source": [
    "**Write a function to calculte the factorial of a number.**"
   ]
  },
  {
   "cell_type": "code",
   "execution_count": 1,
   "id": "cd7290b7",
   "metadata": {},
   "outputs": [
    {
     "name": "stdout",
     "output_type": "stream",
     "text": [
      "enter any number:4\n",
      "factorial of  4 is: 24\n"
     ]
    }
   ],
   "source": [
    "def factorial(n):\n",
    "    i=1\n",
    "    fact = 1\n",
    "    while i<=n:\n",
    "        fact*=i\n",
    "        i+=1\n",
    "    print(\"factorial of \",n,\"is:\",fact)\n",
    "        \n",
    "num=int(input(\"enter any number:\"))\n",
    "factorial(num)\n",
    "    "
   ]
  },
  {
   "cell_type": "markdown",
   "id": "6fae0105",
   "metadata": {},
   "source": [
    "**Write a Function that accepts a string and calculate the number of uppercase letters and lowercase letters.**"
   ]
  },
  {
   "cell_type": "code",
   "execution_count": 2,
   "id": "2d19d16c",
   "metadata": {},
   "outputs": [
    {
     "name": "stdout",
     "output_type": "stream",
     "text": [
      "enter the string: Hello python\n",
      "Uppercase letters:  1\n",
      "Lowercase letters:  11\n"
     ]
    }
   ],
   "source": [
    "def upper_lower(n):\n",
    "    x=0\n",
    "    y=0\n",
    "    i=0\n",
    "    while i<len(n):\n",
    "        if n[i].isupper()==True:\n",
    "            x+=1\n",
    "        else:\n",
    "            y+=1\n",
    "        i+=1\n",
    "    print('Uppercase letters: ',x)\n",
    "    print('Lowercase letters: ',y)\n",
    "\n",
    "num=input('enter the string: ')\n",
    "upper_lower(num)"
   ]
  },
  {
   "cell_type": "markdown",
   "id": "6411290c",
   "metadata": {},
   "source": [
    "**Write a Function that takes a list and returns a new list with unique elements of the first list.**"
   ]
  },
  {
   "cell_type": "code",
   "execution_count": 3,
   "id": "c874d6e7",
   "metadata": {},
   "outputs": [
    {
     "name": "stdout",
     "output_type": "stream",
     "text": [
      "enter list elements: 4 5 7 8 4 9 4 5\n",
      "List:  ['4', '5', '7', '8', '4', '9', '4', '5']\n",
      "Unique elements of list :  ['4', '5', '7', '8', '9']\n"
     ]
    }
   ],
   "source": [
    "def unique(n):\n",
    "    l=[]\n",
    "    print('List: ',n)\n",
    "    for i in n:\n",
    "        if i not in l:\n",
    "            l.append(i)\n",
    "    print('Unique elements of list : ',l)\n",
    "\n",
    "num=input('enter list elements: ').split()\n",
    "unique(num)"
   ]
  },
  {
   "cell_type": "code",
   "execution_count": null,
   "id": "bc12ddae",
   "metadata": {},
   "outputs": [],
   "source": []
  }
 ],
 "metadata": {
  "kernelspec": {
   "display_name": "Python 3 (ipykernel)",
   "language": "python",
   "name": "python3"
  },
  "language_info": {
   "codemirror_mode": {
    "name": "ipython",
    "version": 3
   },
   "file_extension": ".py",
   "mimetype": "text/x-python",
   "name": "python",
   "nbconvert_exporter": "python",
   "pygments_lexer": "ipython3",
   "version": "3.9.12"
  }
 },
 "nbformat": 4,
 "nbformat_minor": 5
}
