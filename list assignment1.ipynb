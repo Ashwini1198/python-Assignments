{
 "cells": [
  {
   "cell_type": "markdown",
   "id": "38807f9b",
   "metadata": {},
   "source": [
    "**write a program to sum all the items in a list**"
   ]
  },
  {
   "cell_type": "code",
   "execution_count": 3,
   "id": "6789920a",
   "metadata": {},
   "outputs": [
    {
     "name": "stdout",
     "output_type": "stream",
     "text": [
      "sum of all items= 15\n"
     ]
    }
   ],
   "source": [
    "nums=[1,2,3,4,5]\n",
    "x= sum(nums)\n",
    "print('sum of all items=',x)\n"
   ]
  },
  {
   "cell_type": "markdown",
   "id": "9d6605b6",
   "metadata": {},
   "source": [
    "**write aprogram to multiply all the items in a list**"
   ]
  },
  {
   "cell_type": "code",
   "execution_count": 2,
   "id": "2373416d",
   "metadata": {},
   "outputs": [
    {
     "name": "stdout",
     "output_type": "stream",
     "text": [
      "multiply all items= 120\n"
     ]
    }
   ],
   "source": [
    "list=[1,2,3,4,5]\n",
    "m=1\n",
    "for i in list:\n",
    "    m *=i\n",
    "print('multiply all items=',m)\n"
   ]
  },
  {
   "cell_type": "markdown",
   "id": "05d10e12",
   "metadata": {},
   "source": [
    "**write a program to get the largest number from a list** "
   ]
  },
  {
   "cell_type": "code",
   "execution_count": 14,
   "id": "80fe6fdb",
   "metadata": {},
   "outputs": [
    {
     "name": "stdout",
     "output_type": "stream",
     "text": [
      "Largest number is: 99\n"
     ]
    }
   ],
   "source": [
    "list= [10, 20, 14, 45, 99]\n",
    "x=max(list)\n",
    "print(\"Largest number is:\",x)"
   ]
  },
  {
   "cell_type": "markdown",
   "id": "8d5955f6",
   "metadata": {},
   "source": [
    "**write a program to get the smallest number from a list** "
   ]
  },
  {
   "cell_type": "code",
   "execution_count": 16,
   "id": "cbe3d2a2",
   "metadata": {},
   "outputs": [
    {
     "name": "stdout",
     "output_type": "stream",
     "text": [
      "smallest number is: 10\n"
     ]
    }
   ],
   "source": [
    "list= [10, 20, 14, 45, 99]\n",
    "x=min(list)\n",
    "print(\"smallest number is:\",x)"
   ]
  },
  {
   "cell_type": "markdown",
   "id": "c1eeb525",
   "metadata": {},
   "source": [
    "**write a program to count a number of string list**"
   ]
  },
  {
   "cell_type": "code",
   "execution_count": 1,
   "id": "6bab5f65",
   "metadata": {},
   "outputs": [
    {
     "name": "stdout",
     "output_type": "stream",
     "text": [
      "number of strings in list = 5\n"
     ]
    }
   ],
   "source": [
    "list = ['asa','3','56','ash','aba']\n",
    "count = 0\n",
    "i = 0\n",
    "for i in range(len(list)):\n",
    "    count += 1\n",
    "print('number of strings in list =', count)"
   ]
  },
  {
   "cell_type": "code",
   "execution_count": null,
   "id": "14a19088",
   "metadata": {},
   "outputs": [],
   "source": []
  }
 ],
 "metadata": {
  "kernelspec": {
   "display_name": "Python 3 (ipykernel)",
   "language": "python",
   "name": "python3"
  },
  "language_info": {
   "codemirror_mode": {
    "name": "ipython",
    "version": 3
   },
   "file_extension": ".py",
   "mimetype": "text/x-python",
   "name": "python",
   "nbconvert_exporter": "python",
   "pygments_lexer": "ipython3",
   "version": "3.9.12"
  }
 },
 "nbformat": 4,
 "nbformat_minor": 5
}
