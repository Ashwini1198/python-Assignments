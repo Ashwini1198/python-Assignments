{
 "cells": [
  {
   "cell_type": "markdown",
   "id": "efbeccce",
   "metadata": {},
   "source": [
    "# string"
   ]
  },
  {
   "cell_type": "markdown",
   "id": "bd63ffe7",
   "metadata": {},
   "source": [
    "**Write a program to reverse the string.**"
   ]
  },
  {
   "cell_type": "code",
   "execution_count": 12,
   "id": "3de82f9c",
   "metadata": {},
   "outputs": [
    {
     "name": "stdout",
     "output_type": "stream",
     "text": [
      "dlrow olleH\n"
     ]
    }
   ],
   "source": [
    "msg=\"Hello world\"\n",
    "reverse=msg[::-1]\n",
    "print(reverse)"
   ]
  },
  {
   "cell_type": "markdown",
   "id": "03c851f5",
   "metadata": {},
   "source": [
    "**Write a program to check whether a given string is palindrome or not.**"
   ]
  },
  {
   "cell_type": "code",
   "execution_count": 4,
   "id": "4ebef88d",
   "metadata": {},
   "outputs": [
    {
     "name": "stdout",
     "output_type": "stream",
     "text": [
      "dlrow olleH\n",
      "it is palindrome\n"
     ]
    }
   ],
   "source": [
    "msg=\"Hello world\"\n",
    "reverse=msg[::-1]\n",
    "print(reverse)\n",
    "if(reverse==msg[::-1]):\n",
    "    print(\"it is palindrome\")\n",
    "else:\n",
    "    print(\"it is not palindrome\")"
   ]
  },
  {
   "cell_type": "markdown",
   "id": "95cd1b59",
   "metadata": {},
   "source": [
    "**Write a program to count the number of character**"
   ]
  },
  {
   "cell_type": "code",
   "execution_count": 6,
   "id": "8a14d8c4",
   "metadata": {},
   "outputs": [
    {
     "name": "stdout",
     "output_type": "stream",
     "text": [
      "count of the character = 7\n"
     ]
    }
   ],
   "source": [
    "msg=\"Ashwini\"\n",
    "count=0\n",
    "for i in msg:\n",
    "    count=count+1\n",
    "print(\"count of the character =\",count)"
   ]
  },
  {
   "cell_type": "markdown",
   "id": "d4ddfb79",
   "metadata": {},
   "source": [
    "**write a program to calculate the length of string**"
   ]
  },
  {
   "cell_type": "code",
   "execution_count": 3,
   "id": "9e544117",
   "metadata": {},
   "outputs": [
    {
     "name": "stdout",
     "output_type": "stream",
     "text": [
      "enter the string=ashwini\n",
      " The length of string = 7\n"
     ]
    }
   ],
   "source": [
    "msg=input(\"enter the string=\")\n",
    "string=len(msg)\n",
    "print(\" The length of string =\",string)"
   ]
  },
  {
   "cell_type": "markdown",
   "id": "0753c144",
   "metadata": {},
   "source": [
    "**write a program take a input by user and to display upper and lower cases**"
   ]
  },
  {
   "cell_type": "code",
   "execution_count": 2,
   "id": "b27f9a99",
   "metadata": {},
   "outputs": [
    {
     "name": "stdout",
     "output_type": "stream",
     "text": [
      "HELLO PYTHON\n",
      "hello python\n"
     ]
    }
   ],
   "source": [
    "msg=\"Hello Python\"\n",
    "print(msg.upper())\n",
    "print(msg.lower())"
   ]
  },
  {
   "cell_type": "markdown",
   "id": "900fd3c3",
   "metadata": {},
   "source": [
    "**Write a Python program that accepts a comma separated sequence of words as input and prints the unique words in sorted form**"
   ]
  },
  {
   "cell_type": "code",
   "execution_count": 7,
   "id": "07d94d4d",
   "metadata": {},
   "outputs": [
    {
     "name": "stdout",
     "output_type": "stream",
     "text": [
      "enter the list=b,n,w,r,a,f\n",
      "a,b,f,n,r,w\n"
     ]
    }
   ],
   "source": [
    "items=[x for x in input('enter the list=').split(',')]\n",
    "items.sort()\n",
    "print(','.join(items))"
   ]
  }
 ],
 "metadata": {
  "kernelspec": {
   "display_name": "Python 3 (ipykernel)",
   "language": "python",
   "name": "python3"
  },
  "language_info": {
   "codemirror_mode": {
    "name": "ipython",
    "version": 3
   },
   "file_extension": ".py",
   "mimetype": "text/x-python",
   "name": "python",
   "nbconvert_exporter": "python",
   "pygments_lexer": "ipython3",
   "version": "3.9.12"
  }
 },
 "nbformat": 4,
 "nbformat_minor": 5
}
