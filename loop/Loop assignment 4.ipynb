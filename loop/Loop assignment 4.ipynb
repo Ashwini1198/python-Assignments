{
 "cells": [
  {
   "cell_type": "markdown",
   "id": "d90130c9",
   "metadata": {},
   "source": [
    "# Number patteren using loop"
   ]
  },
  {
   "cell_type": "markdown",
   "id": "09d71754",
   "metadata": {},
   "source": [
    "**Write a program to print the following numbers patteren using loop**"
   ]
  },
  {
   "cell_type": "markdown",
   "id": "44e30f90",
   "metadata": {},
   "source": [
    "**a)1\n",
    "    12\n",
    "    123\n",
    "    1234\n",
    "    12345**"
   ]
  },
  {
   "cell_type": "code",
   "execution_count": 1,
   "id": "f3b6d481",
   "metadata": {},
   "outputs": [
    {
     "name": "stdout",
     "output_type": "stream",
     "text": [
      "1\n",
      "12\n",
      "123\n",
      "1234\n",
      "12345\n"
     ]
    }
   ],
   "source": [
    "\n",
    "for i in range(1,5+1):\n",
    "    for j in range(1,i+1): #inner loop\n",
    "        print(j,end=\"\")\n",
    "    print()\n"
   ]
  },
  {
   "cell_type": "markdown",
   "id": "7fd5b8c4",
   "metadata": {},
   "source": [
    "**b)1\n",
    "    22\n",
    "    333\n",
    "    4444\n",
    "    55555**"
   ]
  },
  {
   "cell_type": "code",
   "execution_count": 2,
   "id": "3f65a3fc",
   "metadata": {},
   "outputs": [
    {
     "name": "stdout",
     "output_type": "stream",
     "text": [
      "1\n",
      "22\n",
      "333\n",
      "4444\n",
      "55555\n"
     ]
    }
   ],
   "source": [
    "for i in range(1,5+1):\n",
    "    for j in range(1,i+1):\n",
    "        print(i,end=\"\")\n",
    "    print()"
   ]
  },
  {
   "cell_type": "markdown",
   "id": "b1bd29db",
   "metadata": {},
   "source": [
    "**c)54321\n",
    "    5432\n",
    "    543\n",
    "    54\n",
    "    5**"
   ]
  },
  {
   "cell_type": "code",
   "execution_count": 5,
   "id": "8d8369ef",
   "metadata": {},
   "outputs": [
    {
     "name": "stdout",
     "output_type": "stream",
     "text": [
      "54321\n",
      "5432\n",
      "543\n",
      "54\n",
      "5\n"
     ]
    }
   ],
   "source": [
    "for i in range(1,6):\n",
    "    for j in range(5,i-1,-1):\n",
    "        print(j,end=\"\")\n",
    "    print()"
   ]
  },
  {
   "cell_type": "markdown",
   "id": "77614cfd",
   "metadata": {},
   "source": [
    "d)**12345\n",
    "    1234\n",
    "    123\n",
    "    12\n",
    "    1**"
   ]
  },
  {
   "cell_type": "code",
   "execution_count": 8,
   "id": "2098d5ee",
   "metadata": {},
   "outputs": [
    {
     "name": "stdout",
     "output_type": "stream",
     "text": [
      "12345\n",
      "1234\n",
      "123\n",
      "12\n",
      "1\n"
     ]
    }
   ],
   "source": [
    "for i in range(5,0,-1):\n",
    "    for j in range(1,i+1):\n",
    "        print(j,end=\"\")\n",
    "    print()"
   ]
  },
  {
   "cell_type": "markdown",
   "id": "6b96ac48",
   "metadata": {},
   "source": [
    "**e)54321\n",
    "    4321\n",
    "    321\n",
    "    21\n",
    "    1**"
   ]
  },
  {
   "cell_type": "code",
   "execution_count": 9,
   "id": "a542f0fb",
   "metadata": {},
   "outputs": [
    {
     "name": "stdout",
     "output_type": "stream",
     "text": [
      "54321\n",
      "4321\n",
      "321\n",
      "21\n",
      "1\n"
     ]
    }
   ],
   "source": [
    "for i in range(5,0,-1):\n",
    "    for j in range(i,0,-1):\n",
    "        print(j,end=\"\")\n",
    "    print()"
   ]
  },
  {
   "cell_type": "code",
   "execution_count": null,
   "id": "fa4a9d6e",
   "metadata": {},
   "outputs": [],
   "source": []
  }
 ],
 "metadata": {
  "kernelspec": {
   "display_name": "Python 3 (ipykernel)",
   "language": "python",
   "name": "python3"
  },
  "language_info": {
   "codemirror_mode": {
    "name": "ipython",
    "version": 3
   },
   "file_extension": ".py",
   "mimetype": "text/x-python",
   "name": "python",
   "nbconvert_exporter": "python",
   "pygments_lexer": "ipython3",
   "version": "3.9.12"
  }
 },
 "nbformat": 4,
 "nbformat_minor": 5
}
