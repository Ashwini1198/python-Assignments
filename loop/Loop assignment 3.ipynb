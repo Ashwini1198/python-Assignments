{
 "cells": [
  {
   "cell_type": "markdown",
   "id": "2cbf7a14",
   "metadata": {},
   "source": [
    "# looping for and while"
   ]
  },
  {
   "cell_type": "markdown",
   "id": "9ce1f031",
   "metadata": {},
   "source": [
    "**Write a program to count the total number of digits in a number.**"
   ]
  },
  {
   "cell_type": "code",
   "execution_count": 1,
   "id": "b15044a9",
   "metadata": {},
   "outputs": [
    {
     "name": "stdout",
     "output_type": "stream",
     "text": [
      "Enter a number:456\n",
      "Number of Digits: 3\n"
     ]
    }
   ],
   "source": [
    "num = int(input(\"Enter a number:\"))\n",
    "count = 0\n",
    "while num>0:\n",
    "    count +=1\n",
    "    num = num//10\n",
    "    \n",
    "print(\"Number of Digits:\",count)"
   ]
  },
  {
   "cell_type": "markdown",
   "id": "70724b37",
   "metadata": {},
   "source": [
    "**Write a program to print fibonacci series.**"
   ]
  },
  {
   "cell_type": "code",
   "execution_count": 2,
   "id": "e6d1c117",
   "metadata": {},
   "outputs": [
    {
     "name": "stdout",
     "output_type": "stream",
     "text": [
      "Enter the number:123\n",
      "0\n",
      "1\n",
      "1\n",
      "2\n",
      "3\n",
      "5\n",
      "8\n",
      "13\n",
      "21\n",
      "34\n",
      "55\n",
      "89\n"
     ]
    }
   ],
   "source": [
    "    n=int(input(\"Enter the number:\"))\n",
    "    x=0\n",
    "    y=1\n",
    "    z=0\n",
    "    while z<=n:\n",
    "        print(z)\n",
    "        x=y\n",
    "        y=z\n",
    "        z=x+y"
   ]
  },
  {
   "cell_type": "markdown",
   "id": "b7104026",
   "metadata": {},
   "source": [
    "**Write a program to check whether a given number is amstrong number or not.**"
   ]
  },
  {
   "cell_type": "code",
   "execution_count": 12,
   "id": "925d5ba2",
   "metadata": {
    "scrolled": false
   },
   "outputs": [
    {
     "name": "stdout",
     "output_type": "stream",
     "text": [
      "Enter the number:153\n",
      "Number is amstrong\n"
     ]
    }
   ],
   "source": [
    "num=int(input(\"Enter the number:\"))\n",
    "i=num\n",
    "sum=0\n",
    "while num>0:\n",
    "    sum=sum+(num%10)*(num%10)*(num%10)\n",
    "    num=num//10\n",
    "if i==sum:\n",
    "    print(\"Number is amstrong\")\n",
    "else:\n",
    "    print(\"Number is not amstrong\")\n"
   ]
  },
  {
   "cell_type": "markdown",
   "id": "2ee42a69",
   "metadata": {},
   "source": [
    "**Write a program to check whether a given number is strong number or not.**"
   ]
  },
  {
   "cell_type": "code",
   "execution_count": 9,
   "id": "0c53d384",
   "metadata": {
    "scrolled": true
   },
   "outputs": [
    {
     "name": "stdout",
     "output_type": "stream",
     "text": [
      "Enter the number:234\n",
      "number is not strong\n"
     ]
    }
   ],
   "source": [
    "num=int(input(\"Enter the number:\"))\n",
    "sum=0\n",
    "x=num\n",
    "while num:\n",
    "    i=1\n",
    "    fact=1\n",
    "    rem=num%10\n",
    "    while i<=rem:\n",
    "        fact=fact*i\n",
    "        i=i+1\n",
    "        sum=sum+fact\n",
    "        num=num//10\n",
    "if sum==x:\n",
    "     print(\"number is strong\")\n",
    "else:\n",
    "     print(\"number is not strong\")\n"
   ]
  },
  {
   "cell_type": "markdown",
   "id": "1df9f70f",
   "metadata": {},
   "source": [
    "**Write a program to check whether a given number is perfect number or not.**"
   ]
  },
  {
   "cell_type": "code",
   "execution_count": 11,
   "id": "5e2feb4a",
   "metadata": {},
   "outputs": [
    {
     "name": "stdout",
     "output_type": "stream",
     "text": [
      "Enter the number:28\n",
      "28 is perfect number\n"
     ]
    }
   ],
   "source": [
    "num=int(input(\"Enter the number:\"))\n",
    "result=0\n",
    "for i in range(1,num):\n",
    "    if num%i==0:\n",
    "        result=result+i\n",
    "if result==num:\n",
    "    print(num,\"is perfect number\")\n",
    "else:\n",
    "    print(num,\"is not perfect number\")"
   ]
  },
  {
   "cell_type": "code",
   "execution_count": null,
   "id": "3f7b5ee8",
   "metadata": {},
   "outputs": [],
   "source": []
  }
 ],
 "metadata": {
  "kernelspec": {
   "display_name": "Python 3 (ipykernel)",
   "language": "python",
   "name": "python3"
  },
  "language_info": {
   "codemirror_mode": {
    "name": "ipython",
    "version": 3
   },
   "file_extension": ".py",
   "mimetype": "text/x-python",
   "name": "python",
   "nbconvert_exporter": "python",
   "pygments_lexer": "ipython3",
   "version": "3.9.12"
  }
 },
 "nbformat": 4,
 "nbformat_minor": 5
}
