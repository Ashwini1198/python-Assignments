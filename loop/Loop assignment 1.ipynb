{
 "cells": [
  {
   "cell_type": "markdown",
   "id": "c0884e13",
   "metadata": {},
   "source": [
    "# while loop"
   ]
  },
  {
   "cell_type": "markdown",
   "id": "c9f62a3e",
   "metadata": {},
   "source": [
    "**write a program to print \"Hello python\" ten times**"
   ]
  },
  {
   "cell_type": "code",
   "execution_count": 1,
   "id": "801d0d06",
   "metadata": {},
   "outputs": [
    {
     "name": "stdout",
     "output_type": "stream",
     "text": [
      " Hello python\n",
      " Hello python\n",
      " Hello python\n",
      " Hello python\n",
      " Hello python\n",
      " Hello python\n",
      " Hello python\n",
      " Hello python\n",
      " Hello python\n",
      " Hello python\n"
     ]
    }
   ],
   "source": [
    "i=1\n",
    "while i<=10:\n",
    "    print(\" Hello python\")\n",
    "    i=i+1"
   ]
  },
  {
   "cell_type": "markdown",
   "id": "e3f39dbe",
   "metadata": {},
   "source": [
    "**write a program to print number from 1 to 10.**"
   ]
  },
  {
   "cell_type": "code",
   "execution_count": 2,
   "id": "146b69e2",
   "metadata": {},
   "outputs": [
    {
     "name": "stdout",
     "output_type": "stream",
     "text": [
      "1\n",
      "2\n",
      "3\n",
      "4\n",
      "5\n",
      "6\n",
      "7\n",
      "8\n",
      "9\n",
      "10\n"
     ]
    }
   ],
   "source": [
    "i=1\n",
    "while i<=10:\n",
    "    print(i)\n",
    "    i=i+1"
   ]
  },
  {
   "cell_type": "markdown",
   "id": "4917f876",
   "metadata": {},
   "source": [
    "**write a program to print sum of first ten number**"
   ]
  },
  {
   "cell_type": "code",
   "execution_count": 3,
   "id": "e643882a",
   "metadata": {},
   "outputs": [
    {
     "name": "stdout",
     "output_type": "stream",
     "text": [
      "1\n",
      "3\n",
      "6\n",
      "10\n",
      "15\n",
      "21\n",
      "28\n",
      "36\n",
      "45\n",
      "55\n"
     ]
    }
   ],
   "source": [
    "i=1\n",
    "sum=0\n",
    "while i<=10:\n",
    "    sum=sum+i\n",
    "    print(sum)\n",
    "    i=i+1"
   ]
  },
  {
   "cell_type": "markdown",
   "id": "af592f48",
   "metadata": {},
   "source": [
    "**write a program to print n number entered by the user**"
   ]
  },
  {
   "cell_type": "code",
   "execution_count": 4,
   "id": "a10b6d1b",
   "metadata": {},
   "outputs": [
    {
     "name": "stdout",
     "output_type": "stream",
     "text": [
      "enter the no =4\n",
      "1\n",
      "2\n",
      "3\n",
      "4\n"
     ]
    }
   ],
   "source": [
    "n=int(input('enter the no ='))\n",
    "i=1\n",
    "while i<=n:\n",
    "    print(i)\n",
    "    i=i+1"
   ]
  },
  {
   "cell_type": "markdown",
   "id": "6581ec26",
   "metadata": {},
   "source": [
    "**write a program to print of n number**"
   ]
  },
  {
   "cell_type": "code",
   "execution_count": 5,
   "id": "eac24445",
   "metadata": {},
   "outputs": [
    {
     "name": "stdout",
     "output_type": "stream",
     "text": [
      "enter the no =5\n",
      "1\n",
      "3\n",
      "6\n",
      "10\n",
      "15\n"
     ]
    }
   ],
   "source": [
    "n=int(input('enter the no ='))\n",
    "i=1\n",
    "sum=0\n",
    "while i<=n:\n",
    "    sum=sum+i\n",
    "    print(sum)\n",
    "    i=i+1"
   ]
  },
  {
   "cell_type": "markdown",
   "id": "6d205f7c",
   "metadata": {},
   "source": [
    "**write a program to print table of a number** "
   ]
  },
  {
   "cell_type": "code",
   "execution_count": 6,
   "id": "c2a29aa1",
   "metadata": {},
   "outputs": [
    {
     "name": "stdout",
     "output_type": "stream",
     "text": [
      "enter the no =7\n",
      "7 x 1 = 7\n",
      "7 x 2 = 14\n",
      "7 x 3 = 21\n",
      "7 x 4 = 28\n",
      "7 x 5 = 35\n",
      "7 x 6 = 42\n",
      "7 x 7 = 49\n",
      "7 x 8 = 56\n",
      "7 x 9 = 63\n",
      "7 x 10 = 70\n"
     ]
    }
   ],
   "source": [
    "n=int(input('enter the no ='))\n",
    "i=1\n",
    "while(i<=10):\n",
    "    print(n,'x',i,'=',n*i)\n",
    "    i+=1"
   ]
  },
  {
   "cell_type": "markdown",
   "id": "e9ed9bb6",
   "metadata": {},
   "source": [
    "**write a program to calculate the factorial of a number**"
   ]
  },
  {
   "cell_type": "code",
   "execution_count": 7,
   "id": "0ce2c9e2",
   "metadata": {},
   "outputs": [
    {
     "name": "stdout",
     "output_type": "stream",
     "text": [
      "enter any number =4\n",
      "24\n"
     ]
    }
   ],
   "source": [
    "n=int(input('enter any number ='))\n",
    "i=1\n",
    "fac=1\n",
    "while(i<=n):\n",
    "    fac=fac*i\n",
    "    i=i+1\n",
    "print(fac)"
   ]
  },
  {
   "cell_type": "markdown",
   "id": "3b397166",
   "metadata": {},
   "source": [
    "**write a program to print even number betwwen 1 to 100**"
   ]
  },
  {
   "cell_type": "code",
   "execution_count": 8,
   "id": "2898eeae",
   "metadata": {},
   "outputs": [
    {
     "name": "stdout",
     "output_type": "stream",
     "text": [
      "2\n",
      "4\n",
      "6\n",
      "8\n",
      "10\n",
      "12\n",
      "14\n",
      "16\n",
      "18\n",
      "20\n",
      "22\n",
      "24\n",
      "26\n",
      "28\n",
      "30\n",
      "32\n",
      "34\n",
      "36\n",
      "38\n",
      "40\n",
      "42\n",
      "44\n",
      "46\n",
      "48\n",
      "50\n",
      "52\n",
      "54\n",
      "56\n",
      "58\n",
      "60\n",
      "62\n",
      "64\n",
      "66\n",
      "68\n",
      "70\n",
      "72\n",
      "74\n",
      "76\n",
      "78\n",
      "80\n",
      "82\n",
      "84\n",
      "86\n",
      "88\n",
      "90\n",
      "92\n",
      "94\n",
      "96\n",
      "98\n"
     ]
    }
   ],
   "source": [
    "n=2\n",
    "while(n<100):\n",
    "    if(n % 2 ==0):\n",
    "        print(n)\n",
    "    n=n+2\n"
   ]
  },
  {
   "cell_type": "markdown",
   "id": "d14a796c",
   "metadata": {},
   "source": [
    "**write a program to print odd number betwwen 1 to 100**"
   ]
  },
  {
   "cell_type": "code",
   "execution_count": 3,
   "id": "1e63e6f3",
   "metadata": {},
   "outputs": [
    {
     "name": "stdout",
     "output_type": "stream",
     "text": [
      "1\n",
      "3\n",
      "5\n",
      "7\n",
      "9\n",
      "11\n",
      "13\n",
      "15\n",
      "17\n",
      "19\n",
      "21\n",
      "23\n",
      "25\n",
      "27\n",
      "29\n",
      "31\n",
      "33\n",
      "35\n",
      "37\n",
      "39\n",
      "41\n",
      "43\n",
      "45\n",
      "47\n",
      "49\n",
      "51\n",
      "53\n",
      "55\n",
      "57\n",
      "59\n",
      "61\n",
      "63\n",
      "65\n",
      "67\n",
      "69\n",
      "71\n",
      "73\n",
      "75\n",
      "77\n",
      "79\n",
      "81\n",
      "83\n",
      "85\n",
      "87\n",
      "89\n",
      "91\n",
      "93\n",
      "95\n",
      "97\n",
      "99\n"
     ]
    }
   ],
   "source": [
    "n=1\n",
    "while n <100:\n",
    "    if(n % 2 !=0):\n",
    "        print(n)\n",
    "    n=n+1"
   ]
  },
  {
   "cell_type": "code",
   "execution_count": null,
   "id": "b75724d1",
   "metadata": {},
   "outputs": [],
   "source": []
  }
 ],
 "metadata": {
  "kernelspec": {
   "display_name": "Python 3 (ipykernel)",
   "language": "python",
   "name": "python3"
  },
  "language_info": {
   "codemirror_mode": {
    "name": "ipython",
    "version": 3
   },
   "file_extension": ".py",
   "mimetype": "text/x-python",
   "name": "python",
   "nbconvert_exporter": "python",
   "pygments_lexer": "ipython3",
   "version": "3.9.12"
  }
 },
 "nbformat": 4,
 "nbformat_minor": 5
}
