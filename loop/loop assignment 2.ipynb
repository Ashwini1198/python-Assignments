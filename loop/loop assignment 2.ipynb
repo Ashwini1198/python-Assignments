{
 "cells": [
  {
   "cell_type": "markdown",
   "id": "f1f3c9f5",
   "metadata": {},
   "source": [
    "**write a program to check given number palidrome or not**"
   ]
  },
  {
   "cell_type": "code",
   "execution_count": null,
   "id": "998b7af0",
   "metadata": {},
   "outputs": [],
   "source": [
    "num = int(input(\"enter the number =\"))\n",
    "temp = num\n",
    "reverse = 0\n",
    "while temp > 0:\n",
    "    remainder = temp % 10\n",
    "    reverse = (reverse * 10) + remainder\n",
    "    temp = temp // 10\n",
    "if num == reverse:\n",
    "  print('Palindrome')\n",
    "else:\n",
    "  print(\"Not Palindrome\")"
   ]
  },
  {
   "cell_type": "markdown",
   "id": "11c2bc33",
   "metadata": {},
   "source": [
    "**write a program to find factors of a number**"
   ]
  },
  {
   "cell_type": "code",
   "execution_count": null,
   "id": "76f3c4aa",
   "metadata": {},
   "outputs": [],
   "source": [
    "num = int(input(\"enter the number =\"))\n",
    "i=1\n",
    "while i<=num:\n",
    "    if num % i==0:\n",
    "        print(i)\n",
    "    i=i+1"
   ]
  },
  {
   "cell_type": "markdown",
   "id": "fc237c5d",
   "metadata": {},
   "source": [
    "**write a program to print reverse a number**"
   ]
  },
  {
   "cell_type": "code",
   "execution_count": null,
   "id": "dba4e509",
   "metadata": {},
   "outputs": [],
   "source": [
    "num = int(input(\"enter the number =\"))\n",
    "reverse = 0\n",
    "while(num > 0):\n",
    "    remainder = num % 10\n",
    "    reverse = (reverse * 10) + remainder\n",
    "    num = num // 10\n",
    "print('The reverse number is =', reverse)"
   ]
  },
  {
   "cell_type": "markdown",
   "id": "9ee7d8e3",
   "metadata": {},
   "source": [
    "**write a program to print sum of reverse a number**"
   ]
  },
  {
   "cell_type": "code",
   "execution_count": 1,
   "id": "894a996a",
   "metadata": {},
   "outputs": [
    {
     "name": "stdout",
     "output_type": "stream",
     "text": [
      "enter the number =456\n",
      "The reverse number is = 654\n",
      "addition od reverse number= 15\n"
     ]
    }
   ],
   "source": [
    "num = int(input(\"enter the number =\"))\n",
    "reverse = 0\n",
    "sum=0\n",
    "while(num > 0):\n",
    "    remainder = num % 10\n",
    "    sum+=remainder\n",
    "    reverse = (reverse * 10) + remainder\n",
    "    num = num // 10\n",
    "print('The reverse number is =', reverse)\n",
    "print('sum of reverse number=', sum)"
   ]
  },
  {
   "cell_type": "markdown",
   "id": "2dc51b06",
   "metadata": {},
   "source": [
    "**write a program to check whether a given number is prime or not** "
   ]
  },
  {
   "cell_type": "code",
   "execution_count": 17,
   "id": "13e95292",
   "metadata": {},
   "outputs": [
    {
     "name": "stdout",
     "output_type": "stream",
     "text": [
      "Enter any number: 45\n",
      "45 is not a prime number\n"
     ]
    }
   ],
   "source": [
    "number = int(input(\"Enter any number: \"))\n",
    "if number > 1:\n",
    "    for i in range(2, number):\n",
    "        if (number % i) == 0:\n",
    "            print(number, \"is not a prime number\")\n",
    "            break\n",
    "    else:\n",
    "        print(number, \"is a prime number\")"
   ]
  },
  {
   "cell_type": "markdown",
   "id": "6c0ec5a9",
   "metadata": {},
   "source": [
    "**write a program to print prime numbers from 1 to 100**"
   ]
  },
  {
   "cell_type": "code",
   "execution_count": 1,
   "id": "a4e5215b",
   "metadata": {},
   "outputs": [
    {
     "name": "stdout",
     "output_type": "stream",
     "text": [
      "prime numbers from 1 to 100 :\n",
      " 2   3   5   7   11   13   17   19   23   29   31   37   41   43   47   53   59   61   67   71   73   79   83   89   97  "
     ]
    }
   ],
   "source": [
    "print(\"prime numbers from 1 to 100 :\")\n",
    "for n in range (1, 101):\n",
    "    count = 0\n",
    "    t = n//2\n",
    "    for i in range(2, (t + 1)):\n",
    "        if(n % i == 0):\n",
    "            count = count + 1\n",
    "            break\n",
    " \n",
    "    if (count == 0 and n > 1):\n",
    "        print(\" %d\" %n, end = '  ')"
   ]
  },
  {
   "cell_type": "code",
   "execution_count": null,
   "id": "1a640410",
   "metadata": {},
   "outputs": [],
   "source": []
  }
 ],
 "metadata": {
  "kernelspec": {
   "display_name": "Python 3 (ipykernel)",
   "language": "python",
   "name": "python3"
  },
  "language_info": {
   "codemirror_mode": {
    "name": "ipython",
    "version": 3
   },
   "file_extension": ".py",
   "mimetype": "text/x-python",
   "name": "python",
   "nbconvert_exporter": "python",
   "pygments_lexer": "ipython3",
   "version": "3.9.12"
  }
 },
 "nbformat": 4,
 "nbformat_minor": 5
}
