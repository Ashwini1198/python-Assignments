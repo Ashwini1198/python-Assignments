{
 "cells": [
  {
   "cell_type": "markdown",
   "id": "5508d80a",
   "metadata": {},
   "source": [
    "# Alphabet Patteren"
   ]
  },
  {
   "cell_type": "markdown",
   "id": "6ad873c0",
   "metadata": {},
   "source": [
    "**QUE - Write a program to print the following alphabet patteren using a loop.**"
   ]
  },
  {
   "cell_type": "markdown",
   "id": "99b3d83a",
   "metadata": {},
   "source": [
    "**a)A\n",
    "    AB\n",
    "    ABC\n",
    "    ABCD\n",
    "    ABCDE**"
   ]
  },
  {
   "cell_type": "code",
   "execution_count": 1,
   "id": "6e0e3255",
   "metadata": {},
   "outputs": [
    {
     "name": "stdout",
     "output_type": "stream",
     "text": [
      "A\n",
      "AB\n",
      "ABC\n",
      "ABCD\n",
      "ABCDE\n"
     ]
    }
   ],
   "source": [
    "for i in range(5):\n",
    "    for j in range(i+1):\n",
    "        print(chr(65+j),end=\"\")\n",
    "    print()"
   ]
  },
  {
   "cell_type": "markdown",
   "id": "d6776767",
   "metadata": {},
   "source": [
    "**b)A\n",
    "    BB\n",
    "    CCC\n",
    "    DDDD\n",
    "    EEEEE**"
   ]
  },
  {
   "cell_type": "code",
   "execution_count": 2,
   "id": "7ed181aa",
   "metadata": {},
   "outputs": [
    {
     "name": "stdout",
     "output_type": "stream",
     "text": [
      "A\n",
      "BB\n",
      "CCC\n",
      "DDDD\n",
      "EEEEE\n"
     ]
    }
   ],
   "source": [
    "for i in range(5):\n",
    "    for j in range(i+1):\n",
    "        print(chr(65+i),end=\"\")\n",
    "    print()"
   ]
  },
  {
   "cell_type": "markdown",
   "id": "a16f5c4f",
   "metadata": {},
   "source": [
    "**c)ABCDE\n",
    "    ABCD\n",
    "    ABC\n",
    "    AB\n",
    "    A**"
   ]
  },
  {
   "cell_type": "code",
   "execution_count": 3,
   "id": "b663fbe1",
   "metadata": {},
   "outputs": [
    {
     "name": "stdout",
     "output_type": "stream",
     "text": [
      "ABCDE\n",
      "ABCD\n",
      "ABC\n",
      "AB\n",
      "A\n"
     ]
    }
   ],
   "source": [
    "for i in range(5,0,-1):\n",
    "    for j in range(0,i):\n",
    "        print(chr(65+j),end=\"\")\n",
    "    print()"
   ]
  },
  {
   "cell_type": "markdown",
   "id": "0229be9c",
   "metadata": {},
   "source": [
    "**d)EEEEE\n",
    "    DDDD\n",
    "    CCC\n",
    "    BB\n",
    "    A**"
   ]
  },
  {
   "cell_type": "code",
   "execution_count": 4,
   "id": "48a2c34d",
   "metadata": {},
   "outputs": [
    {
     "name": "stdout",
     "output_type": "stream",
     "text": [
      "EEEEE\n",
      "DDDD\n",
      "CCC\n",
      "BB\n",
      "A\n"
     ]
    }
   ],
   "source": [
    "for i in range(4, -1, -1):\n",
    "    for j in range(0, i+1):\n",
    "        print(chr(65+i), end=\"\")\n",
    "    print()\n"
   ]
  }
 ],
 "metadata": {
  "kernelspec": {
   "display_name": "Python 3 (ipykernel)",
   "language": "python",
   "name": "python3"
  },
  "language_info": {
   "codemirror_mode": {
    "name": "ipython",
    "version": 3
   },
   "file_extension": ".py",
   "mimetype": "text/x-python",
   "name": "python",
   "nbconvert_exporter": "python",
   "pygments_lexer": "ipython3",
   "version": "3.9.12"
  }
 },
 "nbformat": 4,
 "nbformat_minor": 5
}
