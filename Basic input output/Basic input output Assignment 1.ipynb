{
 "cells": [
  {
   "cell_type": "markdown",
   "id": "751115ba",
   "metadata": {},
   "source": [
    "# Basic input output"
   ]
  },
  {
   "cell_type": "markdown",
   "id": "36c2ee1c",
   "metadata": {},
   "source": [
    "**self introduction**"
   ]
  },
  {
   "cell_type": "code",
   "execution_count": 1,
   "id": "5f4df2f9",
   "metadata": {},
   "outputs": [
    {
     "name": "stdout",
     "output_type": "stream",
     "text": [
      "Hello, lets learn python\n"
     ]
    }
   ],
   "source": [
    "print(\"Hello, lets learn python\")"
   ]
  },
  {
   "cell_type": "markdown",
   "id": "baaf121e",
   "metadata": {},
   "source": [
    "**Addition**"
   ]
  },
  {
   "cell_type": "code",
   "execution_count": 2,
   "id": "482347e8",
   "metadata": {},
   "outputs": [
    {
     "name": "stdout",
     "output_type": "stream",
     "text": [
      "enter the number=7\n",
      "enter the number =8\n",
      "sum number= 15\n"
     ]
    }
   ],
   "source": [
    "x=int(input('enter the number='))\n",
    "y=int(input('enter the number ='))\n",
    "z=x+y\n",
    "print('sum number=',z)\n"
   ]
  },
  {
   "cell_type": "markdown",
   "id": "c0dc3c69",
   "metadata": {},
   "source": [
    "**Subtraction**"
   ]
  },
  {
   "cell_type": "code",
   "execution_count": 3,
   "id": "3e5c90b7",
   "metadata": {},
   "outputs": [
    {
     "name": "stdout",
     "output_type": "stream",
     "text": [
      "enter the number=9\n",
      "enter the number =5\n",
      "subtract number= 4\n"
     ]
    }
   ],
   "source": [
    "x=int(input('enter the number='))\n",
    "y=int(input('enter the number ='))\n",
    "z=x-y\n",
    "print('subtract number=',z)\n"
   ]
  },
  {
   "cell_type": "markdown",
   "id": "93945441",
   "metadata": {},
   "source": [
    "**multiplication**"
   ]
  },
  {
   "cell_type": "code",
   "execution_count": 4,
   "id": "1f93af9b",
   "metadata": {},
   "outputs": [
    {
     "name": "stdout",
     "output_type": "stream",
     "text": [
      "enter the number=4\n",
      "enter the number =5\n",
      "multiplication number= 20\n"
     ]
    }
   ],
   "source": [
    "x=int(input('enter the number='))\n",
    "y=int(input('enter the number ='))\n",
    "z=x*y\n",
    "print('multiplication number=',z)\n"
   ]
  },
  {
   "cell_type": "markdown",
   "id": "27b2b0b5",
   "metadata": {},
   "source": [
    "**Division**"
   ]
  },
  {
   "cell_type": "code",
   "execution_count": 5,
   "id": "639fa320",
   "metadata": {},
   "outputs": [
    {
     "name": "stdout",
     "output_type": "stream",
     "text": [
      "enter the number=4\n",
      "enter the number =2\n",
      "divide number= 2.0\n"
     ]
    }
   ],
   "source": [
    "x=int(input('enter the number='))\n",
    "y=int(input('enter the number ='))\n",
    "z=x/y\n",
    "print('divide number=',z)\n"
   ]
  },
  {
   "cell_type": "markdown",
   "id": "0b7d0613",
   "metadata": {},
   "source": [
    "**modulus**"
   ]
  },
  {
   "cell_type": "code",
   "execution_count": 6,
   "id": "036176cd",
   "metadata": {},
   "outputs": [
    {
     "name": "stdout",
     "output_type": "stream",
     "text": [
      "enter the number=7\n",
      "enter the number =3\n",
      "output= 1\n"
     ]
    }
   ],
   "source": [
    "a=int(input('enter the number='))  #remainder\n",
    "b=int(input('enter the number ='))\n",
    "c=a%b\n",
    "print(\"output=\",c)"
   ]
  },
  {
   "cell_type": "markdown",
   "id": "6ddf724e",
   "metadata": {},
   "source": [
    "**Exponent**"
   ]
  },
  {
   "cell_type": "code",
   "execution_count": 7,
   "id": "8643429d",
   "metadata": {},
   "outputs": [
    {
     "name": "stdout",
     "output_type": "stream",
     "text": [
      "enter the number=5\n",
      "enter the number =2\n",
      "output= 25\n"
     ]
    }
   ],
   "source": [
    "a=int(input('enter the number='))  #raise to power\n",
    "b=int(input('enter the number ='))\n",
    "c=a**b\n",
    "print(\"output=\",c)"
   ]
  },
  {
   "cell_type": "code",
   "execution_count": null,
   "id": "6916336d",
   "metadata": {},
   "outputs": [],
   "source": []
  }
 ],
 "metadata": {
  "kernelspec": {
   "display_name": "Python 3 (ipykernel)",
   "language": "python",
   "name": "python3"
  },
  "language_info": {
   "codemirror_mode": {
    "name": "ipython",
    "version": 3
   },
   "file_extension": ".py",
   "mimetype": "text/x-python",
   "name": "python",
   "nbconvert_exporter": "python",
   "pygments_lexer": "ipython3",
   "version": "3.9.12"
  }
 },
 "nbformat": 4,
 "nbformat_minor": 5
}
