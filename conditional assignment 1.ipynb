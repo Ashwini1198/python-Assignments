{
 "cells": [
  {
   "cell_type": "markdown",
   "id": "2e575205",
   "metadata": {},
   "source": [
    "# Conditional statement"
   ]
  },
  {
   "cell_type": "markdown",
   "id": "96f9db96",
   "metadata": {},
   "source": [
    "**Check whether given no odd or even**"
   ]
  },
  {
   "cell_type": "code",
   "execution_count": 24,
   "id": "23cad88b",
   "metadata": {},
   "outputs": [
    {
     "name": "stdout",
     "output_type": "stream",
     "text": [
      "enter a given number =5\n",
      "5 is odd number\n"
     ]
    }
   ],
   "source": [
    "x=int(input(\"enter a given number =\"))\n",
    "if x % 2 == 0:\n",
    "    print(x,'is even number')\n",
    "else:\n",
    "    print(x,'is odd number')"
   ]
  },
  {
   "cell_type": "markdown",
   "id": "aaac41ab",
   "metadata": {},
   "source": [
    "**Check whether eligible for vote or not** "
   ]
  },
  {
   "cell_type": "code",
   "execution_count": 3,
   "id": "8f244261",
   "metadata": {},
   "outputs": [
    {
     "name": "stdout",
     "output_type": "stream",
     "text": [
      "enter the number=45\n",
      "45 is eligible for vote\n"
     ]
    }
   ],
   "source": [
    "x= int(input(\"enter any age=\"))\n",
    "if x>18:\n",
    "    print(x,\"is eligible for vote\")\n",
    "else:\n",
    "    print(x,\"is not eligible for vote\")"
   ]
  },
  {
   "cell_type": "markdown",
   "id": "093b3f64",
   "metadata": {},
   "source": [
    " **Check whether given number positive, negative or zero**"
   ]
  },
  {
   "cell_type": "code",
   "execution_count": 27,
   "id": "4b648a8c",
   "metadata": {},
   "outputs": [
    {
     "name": "stdout",
     "output_type": "stream",
     "text": [
      "enter the number=-9\n",
      "-9 is negative number\n"
     ]
    }
   ],
   "source": [
    "num=int(input('enter the number='))\n",
    "if num > 0:\n",
    "    print(num,\"is positive number\")\n",
    "elif num == 0:\n",
    "    print(num,'is in zero')\n",
    "else:\n",
    "    print(num,\"is negative number\")"
   ]
  },
  {
   "cell_type": "markdown",
   "id": "548d8d3d",
   "metadata": {},
   "source": [
    " **Check whether after selling a product its profit or loss**"
   ]
  },
  {
   "cell_type": "code",
   "execution_count": 28,
   "id": "a74475fe",
   "metadata": {},
   "outputs": [
    {
     "name": "stdout",
     "output_type": "stream",
     "text": [
      "enter the number=125\n",
      "125  its profit\n"
     ]
    }
   ],
   "source": [
    "sp= int(input(\"enter the number=\"))\n",
    "if sp > 100:\n",
    "    print(sp,\" its profit\")\n",
    "else:\n",
    "    print(sp,\" its loss\")"
   ]
  },
  {
   "cell_type": "markdown",
   "id": "39d29f07",
   "metadata": {},
   "source": [
    " **Area of quadrilateral**"
   ]
  },
  {
   "cell_type": "code",
   "execution_count": 29,
   "id": "1e262e45",
   "metadata": {},
   "outputs": [
    {
     "name": "stdout",
     "output_type": "stream",
     "text": [
      "enter the number=4\n",
      "enter the number=5\n",
      "enter the number=6\n",
      "enter the number=1\n",
      "area of quadrilater= 120\n"
     ]
    }
   ],
   "source": [
    "a= int(input(\"enter the number=\"))\n",
    "b= int(input(\"enter the number=\"))\n",
    "c= int(input(\"enter the number=\"))\n",
    "d= int(input(\"enter the number=\"))\n",
    "e=a*b*c*d\n",
    "print(\"area of quadrilater=\",e)\n"
   ]
  },
  {
   "cell_type": "markdown",
   "id": "84692a6d",
   "metadata": {},
   "source": [
    "**Check whether an alphabet is a vowel or consonent** "
   ]
  },
  {
   "cell_type": "code",
   "execution_count": 1,
   "id": "619c617b",
   "metadata": {},
   "outputs": [
    {
     "name": "stdout",
     "output_type": "stream",
     "text": [
      "enter any character =a\n",
      "a is a vowel\n"
     ]
    }
   ],
   "source": [
    "x=input(\"enter any character =\")\n",
    "if(x=='A' or x=='a' or x=='E' or x =='e' or x=='I'\n",
    " or x=='i' or x=='O' or x=='o' or x=='U' or x=='u'):\n",
    "    print(x,'is a vowel')\n",
    "else:\n",
    "    print(x,'is a consonent')"
   ]
  },
  {
   "cell_type": "markdown",
   "id": "c42795e0",
   "metadata": {},
   "source": [
    "**Check whether a given year leap or not**"
   ]
  },
  {
   "cell_type": "code",
   "execution_count": 5,
   "id": "de0cfcd5",
   "metadata": {},
   "outputs": [
    {
     "name": "stdout",
     "output_type": "stream",
     "text": [
      "enter any year =1992\n",
      "1992 is a leap year\n"
     ]
    }
   ],
   "source": [
    "year = int(input(\"enter any year =\"))\n",
    "if(year % 4==0):\n",
    "    print(year,'is a leap year')\n",
    "else:\n",
    "    print(year,'is not a leap year')"
   ]
  },
  {
   "cell_type": "markdown",
   "id": "cbdd5705",
   "metadata": {},
   "source": [
    "**Check a triangle is equilaterall, isosceles or scalene**"
   ]
  },
  {
   "cell_type": "code",
   "execution_count": 12,
   "id": "876be4f2",
   "metadata": {},
   "outputs": [
    {
     "name": "stdout",
     "output_type": "stream",
     "text": [
      "enter the number1\n",
      "enter the number2\n",
      "enter the number1\n",
      "isosceles triangle\n"
     ]
    }
   ],
   "source": [
    "x=int(input('enter the number'))\n",
    "y=int(input('enter the number'))\n",
    "z=int(input('enter the number'))\n",
    "if(x==y==z):\n",
    "    print('equilateral triangle')\n",
    "else:\n",
    "    if(x==y or y==z or x==z):\n",
    "        print('isosceles triangle')\n",
    "    else:\n",
    "        print('scalene triangle')\n"
   ]
  },
  {
   "cell_type": "markdown",
   "id": "7dc139af",
   "metadata": {},
   "source": [
    "**Enter two number and print greatest number** "
   ]
  },
  {
   "cell_type": "code",
   "execution_count": 14,
   "id": "d417e3b0",
   "metadata": {},
   "outputs": [
    {
     "name": "stdout",
     "output_type": "stream",
     "text": [
      "enter the number4\n",
      "enter the number5\n",
      "5 is greatest number\n"
     ]
    }
   ],
   "source": [
    "a=int(input('enter the number'))\n",
    "b=int(input('enter the number'))\n",
    "if a>b:\n",
    "    print(a,'is greatest number')\n",
    "else:\n",
    "    print(b,'is greatest number')"
   ]
  },
  {
   "cell_type": "markdown",
   "id": "f549cc09",
   "metadata": {},
   "source": [
    "**Enter two number and print smallest number** "
   ]
  },
  {
   "cell_type": "code",
   "execution_count": 18,
   "id": "26018d8b",
   "metadata": {},
   "outputs": [
    {
     "name": "stdout",
     "output_type": "stream",
     "text": [
      "enter the number4\n",
      "enter the number8\n",
      "4 is smallest number\n"
     ]
    }
   ],
   "source": [
    "a=int(input('enter the number'))\n",
    "b=int(input('enter the number'))\n",
    "if a<b:\n",
    "    print(a,'is smallest number')\n",
    "else:\n",
    "    print(b,'is smallest number')"
   ]
  },
  {
   "cell_type": "markdown",
   "id": "e67f335e",
   "metadata": {},
   "source": [
    "**Enter three number and print greatest number** "
   ]
  },
  {
   "cell_type": "code",
   "execution_count": 23,
   "id": "fe644a27",
   "metadata": {},
   "outputs": [
    {
     "name": "stdout",
     "output_type": "stream",
     "text": [
      "enter the number5\n",
      "enter the number7\n",
      "enter the number8\n",
      "8 is a greatest number\n"
     ]
    }
   ],
   "source": [
    "a=int(input('enter the number'))\n",
    "b=int(input('enter the number'))\n",
    "c=int(input('enter the number'))\n",
    "if a>b:\n",
    "    print(a,'is greatest number')\n",
    "elif b>c:\n",
    "    print(b,'is greatest number')\n",
    "elif c>a:\n",
    "    print(c,'is a greatest number')\n",
    "        "
   ]
  },
  {
   "cell_type": "markdown",
   "id": "105c46dc",
   "metadata": {},
   "source": [
    "**Enter three number and print smallest number**"
   ]
  },
  {
   "cell_type": "code",
   "execution_count": 22,
   "id": "1badf8e2",
   "metadata": {},
   "outputs": [
    {
     "name": "stdout",
     "output_type": "stream",
     "text": [
      "enter the number4\n",
      "enter the number5\n",
      "enter the number9\n",
      "4 is smallest number\n"
     ]
    }
   ],
   "source": [
    "a=int(input('enter the number'))\n",
    "b=int(input('enter the number'))\n",
    "c=int(input('enter the number'))\n",
    "if a<b:\n",
    "    print(a,'is smallest number')\n",
    "elif b<c:\n",
    "    print(b,'is smallest  number')\n",
    "elif c<a:\n",
    "    print(c,'is a smallest number')\n",
    "        "
   ]
  },
  {
   "cell_type": "markdown",
   "id": "c2b144d8",
   "metadata": {},
   "source": [
    "**Enter the number between (1-7)and print respective day of the week**"
   ]
  },
  {
   "cell_type": "code",
   "execution_count": 4,
   "id": "3ade43e3",
   "metadata": {},
   "outputs": [
    {
     "name": "stdout",
     "output_type": "stream",
     "text": [
      "Enter weekday day number (1-7) : 4\n",
      "thrusday\n"
     ]
    }
   ],
   "source": [
    "weekday = int(input(\"Enter weekday day number (1-7) : \"))\n",
    "\n",
    "if weekday==1:\n",
    "    print(\"monday\")\n",
    "elif weekday==2:\n",
    "    print(\"tuesday\")\n",
    "elif weekday==3:\n",
    "    print(\"wednesday\")\n",
    "elif weekday==4:\n",
    "    print(\"thrusday\")\n",
    "elif weekday==5:\n",
    "    print(\"friday\")\n",
    "elif weekday==6:\n",
    "    print(\"saturday\")\n",
    "elif weekday==7:\n",
    "    print(\"sunday\")\n",
    "\n",
    "    \n",
    "    "
   ]
  },
  {
   "cell_type": "markdown",
   "id": "30cf3c26",
   "metadata": {},
   "source": [
    "**Enter the number between (1-12)and print respective month**"
   ]
  },
  {
   "cell_type": "code",
   "execution_count": 5,
   "id": "3a3f84fc",
   "metadata": {},
   "outputs": [
    {
     "name": "stdout",
     "output_type": "stream",
     "text": [
      "Enter month day number (1-12) : 5\n",
      "may\n"
     ]
    }
   ],
   "source": [
    "month = int(input(\"Enter month day number (1-12) : \"))\n",
    "\n",
    "if month ==1:\n",
    "    print(\"jan\")\n",
    "elif month==2:\n",
    "    print(\"feb\")\n",
    "elif month==3:\n",
    "    print(\"march\")\n",
    "elif month==4:\n",
    "    print(\"april\")\n",
    "elif month==5:\n",
    "    print(\"may\")\n",
    "elif month==6:\n",
    "    print(\"june\")\n",
    "elif month ==7:\n",
    "    print(\"jully\")\n",
    "elif month==8:\n",
    "    print(\"aug\")\n",
    "elif month==9:\n",
    "    print(\"sep\")\n",
    "elif month==10:\n",
    "    print(\"oct\")\n",
    "elif month==11:\n",
    "    print(\"nov\")\n",
    "elif month==12:\n",
    "    print(\"dec\")\n",
    "\n"
   ]
  },
  {
   "cell_type": "markdown",
   "id": "70ab5630",
   "metadata": {},
   "source": [
    "**Enter the number between (1-12)and print the operation 1.addition 2.subtraction 3.multiplication 4.division**"
   ]
  },
  {
   "cell_type": "code",
   "execution_count": 9,
   "id": "f972fc77",
   "metadata": {},
   "outputs": [
    {
     "name": "stdout",
     "output_type": "stream",
     "text": [
      "Enter a number between (1-4) : 4\n",
      "enter the no =8\n",
      "enter the no =4\n",
      "division is 2.0\n"
     ]
    }
   ],
   "source": [
    "num = int(input(\"Enter a number between (1-4) : \"))\n",
    "\n",
    "if num==1:\n",
    "    a=int(input('enter the no ='))\n",
    "    b=int(input('enter the no ='))\n",
    "    print('addition is',a+b)\n",
    "elif num==2:\n",
    "    a=int(input('enter the no ='))\n",
    "    b=int(input('enter the no ='))\n",
    "    print('subtraction is',a-b)\n",
    "elif num==3:\n",
    "    a=int(input('enter the no ='))\n",
    "    b=int(input('enter the no ='))\n",
    "    print('multiplication is',a*b)\n",
    "elif num==4:\n",
    "    a=int(input('enter the no ='))\n",
    "    b=int(input('enter the no ='))\n",
    "    print('division is',a/b)"
   ]
  },
  {
   "cell_type": "code",
   "execution_count": null,
   "id": "12937fa9",
   "metadata": {},
   "outputs": [],
   "source": []
  }
 ],
 "metadata": {
  "kernelspec": {
   "display_name": "Python 3 (ipykernel)",
   "language": "python",
   "name": "python3"
  },
  "language_info": {
   "codemirror_mode": {
    "name": "ipython",
    "version": 3
   },
   "file_extension": ".py",
   "mimetype": "text/x-python",
   "name": "python",
   "nbconvert_exporter": "python",
   "pygments_lexer": "ipython3",
   "version": "3.9.12"
  }
 },
 "nbformat": 4,
 "nbformat_minor": 5
}
