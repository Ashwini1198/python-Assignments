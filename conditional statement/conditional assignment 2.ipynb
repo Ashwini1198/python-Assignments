{
 "cells": [
  {
   "cell_type": "markdown",
   "id": "071ad96a",
   "metadata": {},
   "source": [
    "**A company decided to give bonus of 5% to employee if his/her year of service is more than 5 years.\n",
    "Ask user for their salary and year of service and print the net bonus amount.**"
   ]
  },
  {
   "cell_type": "code",
   "execution_count": 1,
   "id": "25b28bab",
   "metadata": {},
   "outputs": [
    {
     "name": "stdout",
     "output_type": "stream",
     "text": [
      "Enter your salary = 25000\n",
      "Enter your year of service = 7\n",
      "Your Net bonus is 1250.0\n"
     ]
    }
   ],
   "source": [
    "salary = int(input(\"Enter your salary = \"))\n",
    "year = int(input(\"Enter your year of service = \"))\n",
    "if year>5:\n",
    "    print(\"Your Net bonus is\",0.05*salary)"
   ]
  },
  {
   "cell_type": "markdown",
   "id": "14d7013e",
   "metadata": {},
   "source": [
    "**write a program to take input of length and breadth of a rectangle from user and check if it is square or not** "
   ]
  },
  {
   "cell_type": "code",
   "execution_count": 3,
   "id": "90fe159b",
   "metadata": {},
   "outputs": [
    {
     "name": "stdout",
     "output_type": "stream",
     "text": [
      "Enter a length = 5\n",
      "Enter a breadth = 5\n",
      "it is a square\n"
     ]
    }
   ],
   "source": [
    "length = int(input(\"Enter a length = \"))\n",
    "breadth = int(input(\"Enter a breadth = \"))\n",
    "if length == breadth:\n",
    "    print(\"it is a square\")\n",
    "else:\n",
    "    print(\"it is not square\")"
   ]
  },
  {
   "cell_type": "markdown",
   "id": "86da87d6",
   "metadata": {},
   "source": [
    "**Take input of age of 3 people by user and determine oldest and youngest among them**"
   ]
  },
  {
   "cell_type": "code",
   "execution_count": 5,
   "id": "abc4c06d",
   "metadata": {},
   "outputs": [
    {
     "name": "stdout",
     "output_type": "stream",
     "text": [
      "Enter age of person 1 : 41\n",
      "Enter age of person 2 : 25\n",
      "Enter age of person 3 : 69\n",
      "Person 3 is oldest\n",
      "Person 2 is youngest\n"
     ]
    }
   ],
   "source": [
    "person1 = int(input(\"Enter age of person 1 : \"))\n",
    "person2 = int(input(\"Enter age of person 2 : \"))\n",
    "person3 = int(input(\"Enter age of person 3 : \"))\n",
    "if person1 > person2 and person1 > person3:        # check oldest\n",
    "    print(\"Person 1 is oldest\")\n",
    "elif person2 > person1 and person2 > person3:\n",
    "    print(\"Person 2 is oldest\")\n",
    "elif person3 > person1 and person3 > person2:\n",
    "    print(\"Person 3 is oldest\")\n",
    "    \n",
    "if person1 < person2 and person1 < person3:         # check youngest\n",
    "    print(\"Person 1 is youngest\")\n",
    "elif person2 < person1 and person2 < person3:\n",
    "    print(\"Person 2 is youngest\")\n",
    "elif person3 < person1 and person3 < person2:\n",
    "    print(\"Person 3 is youngest\")"
   ]
  },
  {
   "cell_type": "markdown",
   "id": "42a7f4f5",
   "metadata": {},
   "source": [
    "**Ask user to enter marks and print the corresponding grade**"
   ]
  },
  {
   "cell_type": "code",
   "execution_count": 8,
   "id": "1d8fbcbd",
   "metadata": {},
   "outputs": [
    {
     "name": "stdout",
     "output_type": "stream",
     "text": [
      "Enter the marks : 79\n",
      " Grade B\n"
     ]
    }
   ],
   "source": [
    "marks = int(input(\"Enter the marks : \"))\n",
    "if(marks<25):\n",
    "    print(\" Grade F\")\n",
    "elif(marks>=25 and marks<45):\n",
    "    print(\" Grade E\")\n",
    "elif(marks>=45 and marks<50):\n",
    "    print(\" Grade D\")\n",
    "elif(marks>=50 and marks<60):\n",
    "    print(\" Grade C\")\n",
    "elif(marks>=60 and marks<80):\n",
    "    print(\" Grade B\")\n",
    "elif(marks>=80):   \n",
    "    print(\" Grade A\")"
   ]
  },
  {
   "cell_type": "code",
   "execution_count": null,
   "id": "6bb2398e",
   "metadata": {},
   "outputs": [],
   "source": []
  }
 ],
 "metadata": {
  "kernelspec": {
   "display_name": "Python 3 (ipykernel)",
   "language": "python",
   "name": "python3"
  },
  "language_info": {
   "codemirror_mode": {
    "name": "ipython",
    "version": 3
   },
   "file_extension": ".py",
   "mimetype": "text/x-python",
   "name": "python",
   "nbconvert_exporter": "python",
   "pygments_lexer": "ipython3",
   "version": "3.9.12"
  }
 },
 "nbformat": 4,
 "nbformat_minor": 5
}
